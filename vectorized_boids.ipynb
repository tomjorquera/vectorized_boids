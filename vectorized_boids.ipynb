{
 "cells": [
  {
   "cell_type": "code",
   "execution_count": null,
   "id": "06dc5e4c-edac-4c31-906c-49ab59f8472b",
   "metadata": {},
   "outputs": [],
   "source": [
    "import numpy as np"
   ]
  },
  {
   "cell_type": "code",
   "execution_count": null,
   "id": "eb4f2a7f-b066-45de-a13c-64a928af1967",
   "metadata": {},
   "outputs": [],
   "source": [
    "np.random.seed(1234)"
   ]
  },
  {
   "cell_type": "code",
   "execution_count": null,
   "id": "e74c1efa-9566-4712-a8fc-51f13d17e3eb",
   "metadata": {},
   "outputs": [],
   "source": [
    "NB_BOIDS = 50\n",
    "MIN_DIST = 0.01\n",
    "Xmin = 0\n",
    "Xmax = 1\n",
    "Ymin = 0\n",
    "Ymax = 1\n",
    "Vxmax = 0.01\n",
    "Vymax = 0.01"
   ]
  },
  {
   "cell_type": "code",
   "execution_count": null,
   "id": "518e3a97-758d-4ee2-a327-9bf360e27ad6",
   "metadata": {},
   "outputs": [],
   "source": [
    "# for boids with limited FoV, set to a small value (like 0.03)\n",
    "# else set it to a big value (like 10)\n",
    "PERCEPTION_RADIUS = 0.03 "
   ]
  },
  {
   "cell_type": "code",
   "execution_count": null,
   "id": "bbd2128a-11e2-4af3-9213-bce45ced08d5",
   "metadata": {},
   "outputs": [],
   "source": [
    "X = np.random.rand(1, NB_BOIDS)\n",
    "Y = np.random.rand(1, NB_BOIDS) \n",
    "Vx = np.random.rand(1, NB_BOIDS) * Vxmax * 2 - Vxmax\n",
    "Vy = np.random.rand(1, NB_BOIDS)* Vymax * 2 - Vymax"
   ]
  },
  {
   "cell_type": "code",
   "execution_count": null,
   "id": "126c0398-dbb3-4ba7-9d87-1b5fd4666999",
   "metadata": {},
   "outputs": [],
   "source": [
    "def update():\n",
    "    # based on https://vergenet.net/~conrad/boids/pseudocode.html\n",
    "    # with addition of limited perception radius by me\n",
    "    global X, Y, Vx, Vy\n",
    "    \n",
    "    XX = np.transpose(X) - X\n",
    "    YY = np.transpose(Y) - Y\n",
    "    SELF = np.identity(NB_BOIDS) == 1\n",
    "\n",
    "    DIST = np.sqrt(XX**2 + YY**2)\n",
    "\n",
    "    NEIGHBOURS = (DIST < PERCEPTION_RADIUS) & (~SELF)\n",
    "    NB_NEIGHBOURS = np.sum(NEIGHBOURS, axis=1)\n",
    "    NB_NEIGHBOURS = np.maximum(NB_NEIGHBOURS, 1) # avoid division by zeros when no neighbours (if FoV)\n",
    "\n",
    "    # rule 1\n",
    "    CENTER_OF_MASS_X = np.sum(X * NEIGHBOURS, 1) / NB_NEIGHBOURS\n",
    "    CENTER_OF_MASS_Y = np.sum(Y * NEIGHBOURS, 1) / NB_NEIGHBOURS\n",
    "    CENTER_OF_MASS_X = (CENTER_OF_MASS_X - X) / 100\n",
    "    CENTER_OF_MASS_Y = (CENTER_OF_MASS_Y - Y) / 100\n",
    "\n",
    "    # rule 2\n",
    "    CLOSE_NEIGHBOURS = (DIST < MIN_DIST) & (~SELF)\n",
    "    DISPLACE_X = np.sum(CLOSE_NEIGHBOURS * XX, axis=1)\n",
    "    DISPLACE_Y = np.sum(CLOSE_NEIGHBOURS * YY, axis=1)\n",
    "\n",
    "    # rule 3\n",
    "    DELTAV_X = np.sum(Vx * NEIGHBOURS, axis=1) / NB_NEIGHBOURS\n",
    "    DELTAV_Y = np.sum(Vy * NEIGHBOURS, axis=1) / NB_NEIGHBOURS\n",
    "    DELTAV_X += np.sum(Vx * SELF, axis=1) / 8\n",
    "    DELTAV_Y += np.sum(Vy * SELF, axis=1) / 8\n",
    "\n",
    "    # boundaries\n",
    "    BOUND_X = (X < Xmin) * 10 + (X > Xmax) * -10\n",
    "    BOUND_Y = (Y < Ymin) * 10 + (Y > Ymax) * -10\n",
    "    \n",
    "    # update\n",
    "    Vx += CENTER_OF_MASS_X + DISPLACE_X + DELTAV_X + BOUND_X\n",
    "    Vy += CENTER_OF_MASS_Y + DISPLACE_Y + DELTAV_Y + BOUND_Y\n",
    "\n",
    "    # speed limit\n",
    "    Vx = (np.abs(Vx) > Vxmax) * Vx / np.linalg.norm(Vx) * Vxmax + (np.abs(Vx) <= Vxmax) * Vx\n",
    "    Vy = (np.abs(Vy) > Vymax) * Vy / np.linalg.norm(Vy) * Vymax + (np.abs(Vy) <= Vymax) * Vy\n",
    "\n",
    "    X += Vx\n",
    "    Y += Vy"
   ]
  },
  {
   "cell_type": "markdown",
   "id": "283b1991-ffab-4598-8f3c-49ef9039998c",
   "metadata": {},
   "source": [
    "---"
   ]
  },
  {
   "cell_type": "code",
   "execution_count": null,
   "id": "dd94e3e5-4c75-40c5-8262-849eadc4b47e",
   "metadata": {},
   "outputs": [],
   "source": [
    "import ipywidgets as widgets\n",
    "import matplotlib.pyplot as plt"
   ]
  },
  {
   "cell_type": "code",
   "execution_count": null,
   "id": "477ddd7e-4cb5-4ed9-8f7d-a7d5691eceaa",
   "metadata": {},
   "outputs": [],
   "source": [
    "def animate(t):\n",
    "    global X, Y\n",
    "    update()\n",
    "    plt.scatter(X, Y)\n",
    "    plt.xlim(Xmin, Xmax)\n",
    "    plt.ylim(Ymin, Ymax)\n",
    "    plt.show()"
   ]
  },
  {
   "cell_type": "code",
   "execution_count": null,
   "id": "373d548a-c0b0-40c1-96fa-71f8e4b60a2e",
   "metadata": {},
   "outputs": [],
   "source": [
    "widgets.interact(animate, t=widgets.Play())"
   ]
  },
  {
   "cell_type": "markdown",
   "id": "0cae452c-51e0-4c71-a837-40a9ddc4e502",
   "metadata": {},
   "source": [
    "---"
   ]
  }
 ],
 "metadata": {
  "kernelspec": {
   "display_name": "Python 3 (ipykernel)",
   "language": "python",
   "name": "python3"
  },
  "language_info": {
   "codemirror_mode": {
    "name": "ipython",
    "version": 3
   },
   "file_extension": ".py",
   "mimetype": "text/x-python",
   "name": "python",
   "nbconvert_exporter": "python",
   "pygments_lexer": "ipython3",
   "version": "3.10.4"
  }
 },
 "nbformat": 4,
 "nbformat_minor": 5
}
